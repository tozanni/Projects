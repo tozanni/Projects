{
  "nbformat": 4,
  "nbformat_minor": 0,
  "metadata": {
    "colab": {
      "name": "Bias Variance Tradeoff.ipynb",
      "provenance": [],
      "collapsed_sections": [],
      "authorship_tag": "ABX9TyMQX+IQHPxySTuLMiMZGGqO",
      "include_colab_link": true
    },
    "kernelspec": {
      "name": "python3",
      "display_name": "Python 3"
    }
  },
  "cells": [
    {
      "cell_type": "markdown",
      "metadata": {
        "id": "view-in-github",
        "colab_type": "text"
      },
      "source": [
        "<a href=\"https://colab.research.google.com/github/tozanni/Projects/blob/master/Bias_Variance_Tradeoff.ipynb\" target=\"_parent\"><img src=\"https://colab.research.google.com/assets/colab-badge.svg\" alt=\"Open In Colab\"/></a>"
      ]
    },
    {
      "cell_type": "markdown",
      "metadata": {
        "id": "lFQ4GmVvJVxC"
      },
      "source": [
        "## Bias-Variance Tradeoff (Interpretación clásica)\n",
        "### Saturdays.AI Latam\n",
        "\n",
        "Eduardo H. Ramirez\n",
        "\n",
        "https://www.linkedin.com/in/ehramirez/\n"
      ]
    },
    {
      "cell_type": "code",
      "metadata": {
        "id": "t54CQiqhuqpw"
      },
      "source": [
        "import numpy as np\n",
        "import matplotlib.pyplot as plt\n",
        "import numpy.polynomial.polynomial as poly  \n",
        "\n",
        "def generate_noisy_points(s = 101):\n",
        "  ''' \n",
        "  Generamos puntos entre 0 y 1 (uso s=101 para que los intervalos de x \n",
        "  sean cortos en decimales)\n",
        "  ''' \n",
        "  x = np.linspace(0, 1 , s)  \n",
        "  e = np.random.normal(0, 0.3, len(x))\n",
        "  y = x**2 + e\n",
        "  return x,y\n",
        "\n",
        "def fit_poly(x,y,p):\n",
        "  \"\"\"\n",
        "  Ajusta un polinomio de grado p a los datos, devuelve el valor de y_hat\n",
        "  \"\"\"\n",
        "  coefs = poly.polyfit(x, y, p)\n",
        "  print(\"Coeficientes del polinomio:\")\n",
        "  print(coefs)\n",
        "  print()\n",
        "  y_hat = poly.polyval(x, coefs)\n",
        "  return y_hat\n",
        "\n",
        "def plot_poly(x, y, y_hat):\n",
        "  #plot_poly(x, y, y_hat)\n",
        "  plt.plot(x, y, \"b.\")\n",
        "  plt.plot(x, y_hat, \"y-\")\n"
      ],
      "execution_count": 19,
      "outputs": []
    },
    {
      "cell_type": "markdown",
      "metadata": {
        "id": "J427FkmwJU3B"
      },
      "source": [
        "Primero queremos mostrar que al repetir los modelos, aquellos que tienen un alto sesgo (bias) no varian mucho entre sus distintas realizaciones (es decir, tienen baja varianza) "
      ]
    },
    {
      "cell_type": "code",
      "metadata": {
        "id": "_U6Kj_Etuy2s",
        "outputId": "5ec8d16c-ac2e-4abf-afcd-cc03ce114705",
        "colab": {
          "base_uri": "https://localhost:8080/",
          "height": 317
        }
      },
      "source": [
        "## Fitear un polinomio de grado 0 (constante)\n",
        "\n",
        "#Generamos puntos con ruido\n",
        "x,y = generate_noisy_points()\n",
        "\n",
        "#Obtenemos el la funcion ajustada (y_hat)\n",
        "p = 0\n",
        "y_hat = fit_poly(x,y,p)\n",
        "\n",
        "#Imprimir\n",
        "plot_poly(x, y, y_hat)\n"
      ],
      "execution_count": 20,
      "outputs": [
        {
          "output_type": "stream",
          "text": [
            "Coeficientes del polinomio:\n",
            "[0.33016868]\n",
            "\n"
          ],
          "name": "stdout"
        },
        {
          "output_type": "display_data",
          "data": {
            "image/png": "[encoded data removed]",
            "text/plain": [
              "<Figure size 432x288 with 1 Axes>"
            ]
          },
          "metadata": {
            "tags": [],
            "needs_background": "light"
          }
        }
      ]
    },
    {
      "cell_type": "code",
      "metadata": {
        "id": "LfwEd0nEiChr",
        "outputId": "92f50173-c0e0-4292-a4a0-2598add25faa",
        "colab": {
          "base_uri": "https://localhost:8080/",
          "height": 317
        }
      },
      "source": [
        "## Fitear un polinomio de grado 2\n",
        "x,y = generate_noisy_points()\n",
        "\n",
        "#Obtenemos el la funcion ajustada (y_hat)\n",
        "p = 2\n",
        "y_hat = fit_poly(x,y,p)\n",
        "\n",
        "\n",
        "#Imprimir\n",
        "plot_poly(x, y, y_hat)\n"
      ],
      "execution_count": 21,
      "outputs": [
        {
          "output_type": "stream",
          "text": [
            "Coeficientes del polinomio:\n",
            "[ 0.08051746 -0.48915674  1.42798639]\n",
            "\n"
          ],
          "name": "stdout"
        },
        {
          "output_type": "display_data",
          "data": {
            "image/png": "[encoded data removed]",
            "text/plain": [
              "<Figure size 432x288 with 1 Axes>"
            ]
          },
          "metadata": {
            "tags": [],
            "needs_background": "light"
          }
        }
      ]
    },
    {
      "cell_type": "code",
      "metadata": {
        "id": "il2i2dpZiI4t",
        "outputId": "510a76cf-90a5-44d2-e7a2-c972f0f17f8e",
        "colab": {
          "base_uri": "https://localhost:8080/",
          "height": 353
        }
      },
      "source": [
        "## Fitear un polinomio de grado 10\n",
        "## ¿Qué pasa si el training set es de menor tamaño?\n",
        "\n",
        "x,y = generate_noisy_points(100)\n",
        "y_hat = fit_poly(x,y,10)\n",
        "\n",
        "\n",
        "#Imprimir\n",
        "plot_poly(x, y, y_hat)"
      ],
      "execution_count": 22,
      "outputs": [
        {
          "output_type": "stream",
          "text": [
            "Coeficientes del polinomio:\n",
            "[-4.99551922e-01  2.03254911e+01 -2.51982978e+02  1.52722427e+03\n",
            " -5.26478431e+03  1.11250843e+04 -1.47912689e+04  1.22621191e+04\n",
            " -5.96881926e+03  1.42527266e+03 -8.15963305e+01]\n",
            "\n"
          ],
          "name": "stdout"
        },
        {
          "output_type": "display_data",
          "data": {
            "image/png": "[encoded data removed]",
            "text/plain": [
              "<Figure size 432x288 with 1 Axes>"
            ]
          },
          "metadata": {
            "tags": [],
            "needs_background": "light"
          }
        }
      ]
    },
    {
      "cell_type": "code",
      "metadata": {
        "id": "Uj6Od18vkmTO"
      },
      "source": [
        "## Valor de la funcion real, sin ruido\n",
        "def f(x):\n",
        "  return x**2\n",
        "\n",
        "def simula_bias_variance(p, gen=100):\n",
        "  \"\"\"\n",
        "  p: grado del polinomio a ajustar\n",
        "  gen: numero de generaciones a simular\n",
        "  \"\"\"\n",
        "  pred_y = np.zeros(gen) #Inicializar arreglo para guardar predicciones\n",
        "  x,y = generate_noisy_points()\n",
        "  idx = 95   \n",
        "  x0 = x[95] \n",
        "  true_y = np.repeat(f(x0),gen)  #array de 100 y's verdaderas\n",
        "\n",
        "  for i in range(0, gen):\n",
        "    x,y = generate_noisy_points()\n",
        "    coefs = poly.polyfit(x, y, p)\n",
        "    y_hat = poly.polyval(x0, coefs)\n",
        "    pred_y[i] = y_hat\n",
        "  \n",
        "  # MSE (Ojo: este MSE es para multiples realizaciones del modelo en el mismo punto)\n",
        "  mse  = np.mean((true_y - pred_y)**2)          \n",
        "  bias_sq = (np.mean(pred_y) - true_y[0])**2\n",
        "  var = np.mean((pred_y - np.mean(pred_y))**2)\n",
        "\n",
        "  #Calculamos error total para demostrar la descomposicion\n",
        "  total_error = bias_sq + var\n",
        "\n",
        "  return {\"MSE\":mse, \"Bias**2\": bias_sq, \"Var\":var, \"Total error\": total_error}\n"
      ],
      "execution_count": 23,
      "outputs": []
    },
    {
      "cell_type": "code",
      "metadata": {
        "id": "XWYHdBGlnGXW"
      },
      "source": [
        "results = []\n",
        "\n",
        "## Correr simulacion para polinomios de grado 0 a 10\n",
        "for p in range(0,10):\n",
        "  results.append(simula_bias_variance(p))\n"
      ],
      "execution_count": 24,
      "outputs": []
    },
    {
      "cell_type": "code",
      "metadata": {
        "id": "I_r2rqjAp99f",
        "outputId": "4160ef5c-fa33-4c71-bb9e-8c942efdb944",
        "colab": {
          "base_uri": "https://localhost:8080/",
          "height": 355
        }
      },
      "source": [
        "import pandas as pd\n",
        "rf = pd.DataFrame(results)\n",
        "rf"
      ],
      "execution_count": 25,
      "outputs": [
        {
          "output_type": "execute_result",
          "data": {
            "text/html": [
              "<div>\n",
              "<style scoped>\n",
              "    .dataframe tbody tr th:only-of-type {\n",
              "        vertical-align: middle;\n",
              "    }\n",
              "\n",
              "    .dataframe tbody tr th {\n",
              "        vertical-align: top;\n",
              "    }\n",
              "\n",
              "    .dataframe thead th {\n",
              "        text-align: right;\n",
              "    }\n",
              "</style>\n",
              "<table border=\"1\" class=\"dataframe\">\n",
              "  <thead>\n",
              "    <tr style=\"text-align: right;\">\n",
              "      <th></th>\n",
              "      <th>MSE</th>\n",
              "      <th>Bias**2</th>\n",
              "      <th>Var</th>\n",
              "      <th>Total error</th>\n",
              "    </tr>\n",
              "  </thead>\n",
              "  <tbody>\n",
              "    <tr>\n",
              "      <th>0</th>\n",
              "      <td>0.315020</td>\n",
              "      <td>3.139536e-01</td>\n",
              "      <td>0.001066</td>\n",
              "      <td>0.315020</td>\n",
              "    </tr>\n",
              "    <tr>\n",
              "      <th>1</th>\n",
              "      <td>0.015067</td>\n",
              "      <td>1.216803e-02</td>\n",
              "      <td>0.002899</td>\n",
              "      <td>0.015067</td>\n",
              "    </tr>\n",
              "    <tr>\n",
              "      <th>2</th>\n",
              "      <td>0.005670</td>\n",
              "      <td>9.138500e-05</td>\n",
              "      <td>0.005578</td>\n",
              "      <td>0.005670</td>\n",
              "    </tr>\n",
              "    <tr>\n",
              "      <th>3</th>\n",
              "      <td>0.007510</td>\n",
              "      <td>4.609773e-08</td>\n",
              "      <td>0.007510</td>\n",
              "      <td>0.007510</td>\n",
              "    </tr>\n",
              "    <tr>\n",
              "      <th>4</th>\n",
              "      <td>0.005305</td>\n",
              "      <td>2.269124e-06</td>\n",
              "      <td>0.005302</td>\n",
              "      <td>0.005305</td>\n",
              "    </tr>\n",
              "    <tr>\n",
              "      <th>5</th>\n",
              "      <td>0.006344</td>\n",
              "      <td>2.409381e-04</td>\n",
              "      <td>0.006103</td>\n",
              "      <td>0.006344</td>\n",
              "    </tr>\n",
              "    <tr>\n",
              "      <th>6</th>\n",
              "      <td>0.009900</td>\n",
              "      <td>2.571783e-05</td>\n",
              "      <td>0.009874</td>\n",
              "      <td>0.009900</td>\n",
              "    </tr>\n",
              "    <tr>\n",
              "      <th>7</th>\n",
              "      <td>0.008325</td>\n",
              "      <td>4.421167e-08</td>\n",
              "      <td>0.008325</td>\n",
              "      <td>0.008325</td>\n",
              "    </tr>\n",
              "    <tr>\n",
              "      <th>8</th>\n",
              "      <td>0.013901</td>\n",
              "      <td>2.829604e-04</td>\n",
              "      <td>0.013618</td>\n",
              "      <td>0.013901</td>\n",
              "    </tr>\n",
              "    <tr>\n",
              "      <th>9</th>\n",
              "      <td>0.012765</td>\n",
              "      <td>7.376091e-05</td>\n",
              "      <td>0.012692</td>\n",
              "      <td>0.012765</td>\n",
              "    </tr>\n",
              "  </tbody>\n",
              "</table>\n",
              "</div>"
            ],
            "text/plain": [
              "        MSE       Bias**2       Var  Total error\n",
              "0  0.315020  3.139536e-01  0.001066     0.315020\n",
              "1  0.015067  1.216803e-02  0.002899     0.015067\n",
              "2  0.005670  9.138500e-05  0.005578     0.005670\n",
              "3  0.007510  4.609773e-08  0.007510     0.007510\n",
              "4  0.005305  2.269124e-06  0.005302     0.005305\n",
              "5  0.006344  2.409381e-04  0.006103     0.006344\n",
              "6  0.009900  2.571783e-05  0.009874     0.009900\n",
              "7  0.008325  4.421167e-08  0.008325     0.008325\n",
              "8  0.013901  2.829604e-04  0.013618     0.013901\n",
              "9  0.012765  7.376091e-05  0.012692     0.012765"
            ]
          },
          "metadata": {
            "tags": []
          },
          "execution_count": 25
        }
      ]
    },
    {
      "cell_type": "code",
      "metadata": {
        "id": "g7VoS1WxrJcg",
        "outputId": "efa9e306-d1cb-423a-da8a-1e97c03284e8",
        "colab": {
          "base_uri": "https://localhost:8080/",
          "height": 283
        }
      },
      "source": [
        "# Ignoro el valor de p=0 de la gráfica para que se aprecie la forma de \"bañera\"\n",
        "rf[1:][[\"Bias**2\",\"Var\",\"Total error\"]].plot()"
      ],
      "execution_count": 26,
      "outputs": [
        {
          "output_type": "execute_result",
          "data": {
            "text/plain": [
              "<matplotlib.axes._subplots.AxesSubplot at 0x7f07aae313c8>"
            ]
          },
          "metadata": {
            "tags": []
          },
          "execution_count": 26
        },
        {
          "output_type": "display_data",
          "data": {
            "image/png": "[encoded data removed]",
            "text/plain": [
              "<Figure size 432x288 with 1 Axes>"
            ]
          },
          "metadata": {
            "tags": [],
            "needs_background": "light"
          }
        }
      ]
    }
  ]
}