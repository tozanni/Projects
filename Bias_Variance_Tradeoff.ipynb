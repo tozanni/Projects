{
  "nbformat": 4,
  "nbformat_minor": 0,
  "metadata": {
    "colab": {
      "name": "Bias Variance Tradeoff.ipynb",
      "provenance": [],
      "collapsed_sections": [],
      "authorship_tag": "ABX9TyMq9Y2tRQJHE/MuSETzVyS9",
      "include_colab_link": true
    },
    "kernelspec": {
      "name": "python3",
      "display_name": "Python 3"
    }
  },
  "cells": [
    {
      "cell_type": "markdown",
      "metadata": {
        "id": "view-in-github",
        "colab_type": "text"
      },
      "source": [
        "<a href=\"https://colab.research.google.com/github/tozanni/Projects/blob/master/Bias_Variance_Tradeoff.ipynb\" target=\"_parent\"><img src=\"https://colab.research.google.com/assets/colab-badge.svg\" alt=\"Open In Colab\"/></a>"
      ]
    },
    {
      "cell_type": "markdown",
      "metadata": {
        "id": "lFQ4GmVvJVxC"
      },
      "source": [
        "## Bias-Variance Tradeoff (Interpretación clásica)\n",
        "### Saturdays.AI Latam\n",
        "\n",
        "Eduardo H. Ramirez\n",
        "\n",
        "https://www.linkedin.com/in/ehramirez/\n"
      ]
    },
    {
      "cell_type": "code",
      "metadata": {
        "id": "t54CQiqhuqpw"
      },
      "source": [
        "import numpy as np\n",
        "import matplotlib.pyplot as plt\n",
        "import numpy.polynomial.polynomial as poly  \n",
        "\n",
        "def generate_noisy_points(s = 101):\n",
        "  ''' \n",
        "  Generamos puntos entre 0 y 1 (uso s=101 para que los intervalos de x \n",
        "  sean cortos en decimales)\n",
        "  ''' \n",
        "  x = np.linspace(0, 1 , s)  \n",
        "  e = np.random.normal(0, 0.3, len(x))\n",
        "  y = x**2 + e\n",
        "  return x,y\n",
        "\n",
        "def fit_poly(x,y,p):\n",
        "  \"\"\"\n",
        "  Ajusta un polinomio de grado p a los datos, devuelve el valor de y_hat\n",
        "  \"\"\"\n",
        "  coefs = poly.polyfit(x, y, p)\n",
        "  print(\"Coeficientes del polinomio:\")\n",
        "  print(coefs)\n",
        "  print()\n",
        "  y_hat = poly.polyval(x, coefs)\n",
        "  return y_hat\n",
        "\n",
        "def plot_poly(x, y, y_hat):\n",
        "  #plot_poly(x, y, y_hat)\n",
        "  plt.plot(x, y, \"b.\")\n",
        "  plt.plot(x, y_hat, \"y-\")\n"
      ],
      "execution_count": 2,
      "outputs": []
    },
    {
      "cell_type": "markdown",
      "metadata": {
        "id": "J427FkmwJU3B"
      },
      "source": [
        "Primero queremos mostrar que al repetir los modelos, aquellos que tienen un alto sesgo (bias) no varian mucho entre sus distintas realizaciones (es decir, tienen baja varianza) "
      ]
    },
    {
      "cell_type": "code",
      "metadata": {
        "id": "_U6Kj_Etuy2s",
        "outputId": "e2ae7813-60c9-484b-d047-25971cd8b8d4",
        "colab": {
          "base_uri": "https://localhost:8080/",
          "height": 352
        }
      },
      "source": [
        "## Fitear un polinomio de grado 0 (constante)\n",
        "\n",
        "#Generamos puntos con ruido\n",
        "x,y = generate_noisy_points()\n",
        "\n",
        "#Obtenemos el la funcion ajustada (y_hat)\n",
        "p = 0\n",
        "y_hat = fit_poly(x,y,p)\n",
        "\n",
        "#Imprimir\n",
        "plot_poly(x, y, y_hat)\n"
      ],
      "execution_count": 8,
      "outputs": [
        {
          "output_type": "stream",
          "text": [
            "Coeficientes del polinomio:\n",
            "[0.36456371]\n",
            "\n",
            "MSE: 0.16790854484481774\n",
            "bias_sq: 0.16790854484481774 Var: 2.7733391199176196e-32\n"
          ],
          "name": "stdout"
        },
        {
          "output_type": "display_data",
          "data": {
            "image/png": "[encoded data removed]",
            "text/plain": [
              "<Figure size 432x288 with 1 Axes>"
            ]
          },
          "metadata": {
            "tags": [],
            "needs_background": "light"
          }
        }
      ]
    },
    {
      "cell_type": "code",
      "metadata": {
        "id": "LfwEd0nEiChr",
        "outputId": "7ffd6fb2-5ed1-455a-e9a7-d4accb80dfbc",
        "colab": {
          "base_uri": "https://localhost:8080/",
          "height": 352
        }
      },
      "source": [
        "## Fitear un polinomio de grado 2\n",
        "x,y = generate_noisy_points()\n",
        "\n",
        "#Obtenemos el la funcion ajustada (y_hat)\n",
        "p = 2\n",
        "y_hat = fit_poly(x,y,p)\n",
        "\n",
        "\n",
        "#Imprimir\n",
        "plot_poly(x, y, y_hat)\n"
      ],
      "execution_count": 10,
      "outputs": [
        {
          "output_type": "stream",
          "text": [
            "Coeficientes del polinomio:\n",
            "[-0.06092093  0.3109009   0.6296369 ]\n",
            "\n",
            "MSE: 0.10676836161170049\n",
            "bias_sq: 0.10676836161170049 Var: 0.07748272841691198\n"
          ],
          "name": "stdout"
        },
        {
          "output_type": "display_data",
          "data": {
            "image/png": "[encoded data removed]",
            "text/plain": [
              "<Figure size 432x288 with 1 Axes>"
            ]
          },
          "metadata": {
            "tags": [],
            "needs_background": "light"
          }
        }
      ]
    },
    {
      "cell_type": "code",
      "metadata": {
        "id": "il2i2dpZiI4t",
        "outputId": "d3a2f55d-57ab-4841-b5f4-a030bbcc6cb0",
        "colab": {
          "base_uri": "https://localhost:8080/",
          "height": 387
        }
      },
      "source": [
        "## Fitear un polinomio de grado 10\n",
        "## ¿Qué pasa si el training set es de menor tamaño?\n",
        "\n",
        "x,y = generate_noisy_points(100)\n",
        "y_hat = fit_poly(x,y,10)\n",
        "\n",
        "\n",
        "#Imprimir\n",
        "plot_poly(x, y, y_hat)"
      ],
      "execution_count": 11,
      "outputs": [
        {
          "output_type": "stream",
          "text": [
            "Coeficientes del polinomio:\n",
            "[ 3.43980316e-01 -2.48912238e+01  4.88889510e+02 -4.45610836e+03\n",
            "  2.30852954e+04 -7.42387255e+04  1.54030019e+05 -2.06772650e+05\n",
            "  1.73448577e+05 -8.25293138e+04  1.69696086e+04]\n",
            "\n",
            "MSE: 0.05890960154625897\n",
            "bias_sq: 0.05890960154625897 Var: 0.09896718937362525\n"
          ],
          "name": "stdout"
        },
        {
          "output_type": "display_data",
          "data": {
            "image/png": "[encoded data removed]",
            "text/plain": [
              "<Figure size 432x288 with 1 Axes>"
            ]
          },
          "metadata": {
            "tags": [],
            "needs_background": "light"
          }
        }
      ]
    },
    {
      "cell_type": "code",
      "metadata": {
        "id": "Uj6Od18vkmTO"
      },
      "source": [
        "## Valor de la funcion real, sin ruido\n",
        "def f(x):\n",
        "  return x**2\n",
        "\n",
        "def simula_bias_variance(p, gen=100):\n",
        "  \"\"\"\n",
        "  p: grado del polinomio a ajustar\n",
        "  gen: numero de generaciones a simular\n",
        "  \"\"\"\n",
        "  pred_y = np.zeros(gen) #Inicializar arreglo para guardar predicciones\n",
        "  x,y = generate_noisy_points()\n",
        "  idx = 95   \n",
        "  x0 = x[95] \n",
        "  true_y = np.repeat(f(x0),gen)  #array de 100 y's verdaderas\n",
        "\n",
        "  for i in range(0, gen):\n",
        "    x,y = generate_noisy_points()\n",
        "    coefs = poly.polyfit(x, y, p)\n",
        "    y_hat = poly.polyval(x0, coefs)\n",
        "    pred_y[i] = y_hat\n",
        "  \n",
        "  # MSE (Ojo: este MSE es para multiples realizaciones del modelo en el mismo punto)\n",
        "  mse  = np.mean((true_y - pred_y)**2)          \n",
        "  bias_sq = (np.mean(pred_y) - true_y[0])**2\n",
        "  var = np.mean((pred_y - np.mean(pred_y))**2)\n",
        "\n",
        "  #Calculamos error total para demostrar la descomposicion\n",
        "  total_error = bias_sq + var\n",
        "\n",
        "  return {\"MSE\":mse, \"Bias**2\": bias_sq, \"Var\":var, \"Total error\": total_error}\n"
      ],
      "execution_count": null,
      "outputs": []
    },
    {
      "cell_type": "code",
      "metadata": {
        "id": "XWYHdBGlnGXW"
      },
      "source": [
        "results = []\n",
        "\n",
        "## Correr simulacion para polinomios de grado 0 a 10\n",
        "for p in range(0,10):\n",
        "  results.append(simula_bias_variance(p))\n"
      ],
      "execution_count": null,
      "outputs": []
    },
    {
      "cell_type": "code",
      "metadata": {
        "id": "I_r2rqjAp99f",
        "outputId": "6382ac7a-d7b0-4120-e294-54dcf78b924b",
        "colab": {
          "base_uri": "https://localhost:8080/",
          "height": 355
        }
      },
      "source": [
        "rf = pd.DataFrame(results)\n",
        "rf"
      ],
      "execution_count": null,
      "outputs": [
        {
          "output_type": "execute_result",
          "data": {
            "text/html": [
              "<div>\n",
              "<style scoped>\n",
              "    .dataframe tbody tr th:only-of-type {\n",
              "        vertical-align: middle;\n",
              "    }\n",
              "\n",
              "    .dataframe tbody tr th {\n",
              "        vertical-align: top;\n",
              "    }\n",
              "\n",
              "    .dataframe thead th {\n",
              "        text-align: right;\n",
              "    }\n",
              "</style>\n",
              "<table border=\"1\" class=\"dataframe\">\n",
              "  <thead>\n",
              "    <tr style=\"text-align: right;\">\n",
              "      <th></th>\n",
              "      <th>MSE</th>\n",
              "      <th>Bias**2</th>\n",
              "      <th>Var</th>\n",
              "      <th>Total error</th>\n",
              "    </tr>\n",
              "  </thead>\n",
              "  <tbody>\n",
              "    <tr>\n",
              "      <th>0</th>\n",
              "      <td>0.322413</td>\n",
              "      <td>0.321448</td>\n",
              "      <td>0.000965</td>\n",
              "      <td>0.322413</td>\n",
              "    </tr>\n",
              "    <tr>\n",
              "      <th>1</th>\n",
              "      <td>0.017986</td>\n",
              "      <td>0.015279</td>\n",
              "      <td>0.002707</td>\n",
              "      <td>0.017986</td>\n",
              "    </tr>\n",
              "    <tr>\n",
              "      <th>2</th>\n",
              "      <td>0.004433</td>\n",
              "      <td>0.000426</td>\n",
              "      <td>0.004007</td>\n",
              "      <td>0.004433</td>\n",
              "    </tr>\n",
              "    <tr>\n",
              "      <th>3</th>\n",
              "      <td>0.005345</td>\n",
              "      <td>0.000167</td>\n",
              "      <td>0.005178</td>\n",
              "      <td>0.005345</td>\n",
              "    </tr>\n",
              "    <tr>\n",
              "      <th>4</th>\n",
              "      <td>0.006871</td>\n",
              "      <td>0.000092</td>\n",
              "      <td>0.006779</td>\n",
              "      <td>0.006871</td>\n",
              "    </tr>\n",
              "    <tr>\n",
              "      <th>5</th>\n",
              "      <td>0.005623</td>\n",
              "      <td>0.000030</td>\n",
              "      <td>0.005593</td>\n",
              "      <td>0.005623</td>\n",
              "    </tr>\n",
              "    <tr>\n",
              "      <th>6</th>\n",
              "      <td>0.005286</td>\n",
              "      <td>0.000003</td>\n",
              "      <td>0.005283</td>\n",
              "      <td>0.005286</td>\n",
              "    </tr>\n",
              "    <tr>\n",
              "      <th>7</th>\n",
              "      <td>0.009965</td>\n",
              "      <td>0.000013</td>\n",
              "      <td>0.009952</td>\n",
              "      <td>0.009965</td>\n",
              "    </tr>\n",
              "    <tr>\n",
              "      <th>8</th>\n",
              "      <td>0.011153</td>\n",
              "      <td>0.000277</td>\n",
              "      <td>0.010876</td>\n",
              "      <td>0.011153</td>\n",
              "    </tr>\n",
              "    <tr>\n",
              "      <th>9</th>\n",
              "      <td>0.012235</td>\n",
              "      <td>0.000415</td>\n",
              "      <td>0.011820</td>\n",
              "      <td>0.012235</td>\n",
              "    </tr>\n",
              "  </tbody>\n",
              "</table>\n",
              "</div>"
            ],
            "text/plain": [
              "        MSE   Bias**2       Var  Total error\n",
              "0  0.322413  0.321448  0.000965     0.322413\n",
              "1  0.017986  0.015279  0.002707     0.017986\n",
              "2  0.004433  0.000426  0.004007     0.004433\n",
              "3  0.005345  0.000167  0.005178     0.005345\n",
              "4  0.006871  0.000092  0.006779     0.006871\n",
              "5  0.005623  0.000030  0.005593     0.005623\n",
              "6  0.005286  0.000003  0.005283     0.005286\n",
              "7  0.009965  0.000013  0.009952     0.009965\n",
              "8  0.011153  0.000277  0.010876     0.011153\n",
              "9  0.012235  0.000415  0.011820     0.012235"
            ]
          },
          "metadata": {
            "tags": []
          },
          "execution_count": 370
        }
      ]
    },
    {
      "cell_type": "code",
      "metadata": {
        "id": "g7VoS1WxrJcg",
        "outputId": "2f587c10-2e98-4bb4-d16e-ce79056f482c",
        "colab": {
          "base_uri": "https://localhost:8080/",
          "height": 283
        }
      },
      "source": [
        "# Ignoro el valor de p=0 de la gráfica para que se aprecie la forma de \"bañera\"\n",
        "rf[1:][[\"Bias**2\",\"Var\",\"Total error\"]].plot()"
      ],
      "execution_count": null,
      "outputs": [
        {
          "output_type": "execute_result",
          "data": {
            "text/plain": [
              "<matplotlib.axes._subplots.AxesSubplot at 0x7faf62301710>"
            ]
          },
          "metadata": {
            "tags": []
          },
          "execution_count": 372
        },
        {
          "output_type": "display_data",
          "data": {
            "image/png": "[encoded data removed]",
            "text/plain": [
              "<Figure size 432x288 with 1 Axes>"
            ]
          },
          "metadata": {
            "tags": [],
            "needs_background": "light"
          }
        }
      ]
    }
  ]
}